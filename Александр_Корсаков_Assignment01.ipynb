{
  "nbformat": 4,
  "nbformat_minor": 0,
  "metadata": {
    "kernelspec": {
      "display_name": "Python 3",
      "language": "python",
      "name": "python3"
    },
    "language_info": {
      "codemirror_mode": {
        "name": "ipython",
        "version": 3
      },
      "file_extension": ".py",
      "mimetype": "text/x-python",
      "name": "python",
      "nbconvert_exporter": "python",
      "pygments_lexer": "ipython3",
      "version": "3.6.3"
    },
    "colab": {
      "name": "Александр Корсаков - Assignment01.ipynb",
      "provenance": [],
      "collapsed_sections": []
    }
  },
  "cells": [
    {
      "cell_type": "markdown",
      "metadata": {
        "id": "r5E6ENnehmuH",
        "colab_type": "text"
      },
      "source": [
        "# Задание 1 \n",
        "\n",
        "Ответы впишите в [гугл-форму](https://goo.gl/forms/XzNSmbOyrb7aSiIN2)."
      ]
    },
    {
      "cell_type": "code",
      "metadata": {
        "id": "RxBOXNtdhmuK",
        "colab_type": "code",
        "colab": {}
      },
      "source": [
        "import numpy as np\n",
        "import pandas as pd\n",
        "\n",
        "%matplotlib inline\n",
        "import matplotlib.pyplot as plt"
      ],
      "execution_count": 0,
      "outputs": []
    },
    {
      "cell_type": "code",
      "metadata": {
        "id": "QY_geG_0hmuP",
        "colab_type": "code",
        "colab": {}
      },
      "source": [
        "from google.colab import files\n",
        "\n",
        "uploaded = files.upload()\n",
        "\n",
        "for fn in uploaded.keys():\n",
        "  print('User uploaded file \"{name}\" with length {length} bytes'.format(\n",
        "      name=fn, length=len(uploaded[fn])))"
      ],
      "execution_count": 0,
      "outputs": []
    },
    {
      "cell_type": "markdown",
      "metadata": {
        "id": "A5X3NUUhhmuS",
        "colab_type": "text"
      },
      "source": [
        "Будем работать с данными об автомобилях:"
      ]
    },
    {
      "cell_type": "code",
      "metadata": {
        "id": "eeUPY0Oiic3P",
        "colab_type": "code",
        "outputId": "edfe5019-6b9e-45be-8193-74b676eb96e4",
        "colab": {
          "base_uri": "https://localhost:8080/",
          "height": 122
        }
      },
      "source": [
        "from google.colab import drive\n",
        "drive.mount(\"/content/drive\")"
      ],
      "execution_count": 0,
      "outputs": [
        {
          "output_type": "stream",
          "text": [
            "Go to this URL in a browser: https://accounts.google.com/o/oauth2/auth?client_id=947318989803-6bn6qk8qdgf4n4g3pfee6491hc0brc4i.apps.googleusercontent.com&redirect_uri=urn%3aietf%3awg%3aoauth%3a2.0%3aoob&response_type=code&scope=email%20https%3a%2f%2fwww.googleapis.com%2fauth%2fdocs.test%20https%3a%2f%2fwww.googleapis.com%2fauth%2fdrive%20https%3a%2f%2fwww.googleapis.com%2fauth%2fdrive.photos.readonly%20https%3a%2f%2fwww.googleapis.com%2fauth%2fpeopleapi.readonly\n",
            "\n",
            "Enter your authorization code:\n",
            "··········\n",
            "Mounted at /content/drive\n"
          ],
          "name": "stdout"
        }
      ]
    },
    {
      "cell_type": "code",
      "metadata": {
        "id": "WPj2oD2bhmuT",
        "colab_type": "code",
        "outputId": "db864bcd-755d-4e82-ea72-08df6b80f2cb",
        "colab": {
          "base_uri": "https://localhost:8080/",
          "height": 428
        }
      },
      "source": [
        "car=pd.read_csv('/content/drive/My Drive/cardataset.csv')\n",
        "car.head()"
      ],
      "execution_count": 0,
      "outputs": [
        {
          "output_type": "execute_result",
          "data": {
            "text/html": [
              "<div>\n",
              "<style scoped>\n",
              "    .dataframe tbody tr th:only-of-type {\n",
              "        vertical-align: middle;\n",
              "    }\n",
              "\n",
              "    .dataframe tbody tr th {\n",
              "        vertical-align: top;\n",
              "    }\n",
              "\n",
              "    .dataframe thead th {\n",
              "        text-align: right;\n",
              "    }\n",
              "</style>\n",
              "<table border=\"1\" class=\"dataframe\">\n",
              "  <thead>\n",
              "    <tr style=\"text-align: right;\">\n",
              "      <th></th>\n",
              "      <th>Make</th>\n",
              "      <th>Model</th>\n",
              "      <th>Year</th>\n",
              "      <th>Engine Fuel Type</th>\n",
              "      <th>Engine HP</th>\n",
              "      <th>Engine Cylinders</th>\n",
              "      <th>Transmission Type</th>\n",
              "      <th>Driven_Wheels</th>\n",
              "      <th>Number of Doors</th>\n",
              "      <th>Market Category</th>\n",
              "      <th>Vehicle Size</th>\n",
              "      <th>Vehicle Style</th>\n",
              "      <th>highway MPG</th>\n",
              "      <th>city mpg</th>\n",
              "      <th>Popularity</th>\n",
              "      <th>MSRP</th>\n",
              "    </tr>\n",
              "  </thead>\n",
              "  <tbody>\n",
              "    <tr>\n",
              "      <th>0</th>\n",
              "      <td>BMW</td>\n",
              "      <td>1 Series M</td>\n",
              "      <td>2011</td>\n",
              "      <td>premium unleaded (required)</td>\n",
              "      <td>335.0</td>\n",
              "      <td>6.0</td>\n",
              "      <td>MANUAL</td>\n",
              "      <td>rear wheel drive</td>\n",
              "      <td>2.0</td>\n",
              "      <td>Factory Tuner,Luxury,High-Performance</td>\n",
              "      <td>Compact</td>\n",
              "      <td>Coupe</td>\n",
              "      <td>26</td>\n",
              "      <td>19</td>\n",
              "      <td>3916</td>\n",
              "      <td>46135</td>\n",
              "    </tr>\n",
              "    <tr>\n",
              "      <th>1</th>\n",
              "      <td>BMW</td>\n",
              "      <td>1 Series</td>\n",
              "      <td>2011</td>\n",
              "      <td>premium unleaded (required)</td>\n",
              "      <td>300.0</td>\n",
              "      <td>6.0</td>\n",
              "      <td>MANUAL</td>\n",
              "      <td>rear wheel drive</td>\n",
              "      <td>2.0</td>\n",
              "      <td>Luxury,Performance</td>\n",
              "      <td>Compact</td>\n",
              "      <td>Convertible</td>\n",
              "      <td>28</td>\n",
              "      <td>19</td>\n",
              "      <td>3916</td>\n",
              "      <td>40650</td>\n",
              "    </tr>\n",
              "    <tr>\n",
              "      <th>2</th>\n",
              "      <td>BMW</td>\n",
              "      <td>1 Series</td>\n",
              "      <td>2011</td>\n",
              "      <td>premium unleaded (required)</td>\n",
              "      <td>300.0</td>\n",
              "      <td>6.0</td>\n",
              "      <td>MANUAL</td>\n",
              "      <td>rear wheel drive</td>\n",
              "      <td>2.0</td>\n",
              "      <td>Luxury,High-Performance</td>\n",
              "      <td>Compact</td>\n",
              "      <td>Coupe</td>\n",
              "      <td>28</td>\n",
              "      <td>20</td>\n",
              "      <td>3916</td>\n",
              "      <td>36350</td>\n",
              "    </tr>\n",
              "    <tr>\n",
              "      <th>3</th>\n",
              "      <td>BMW</td>\n",
              "      <td>1 Series</td>\n",
              "      <td>2011</td>\n",
              "      <td>premium unleaded (required)</td>\n",
              "      <td>230.0</td>\n",
              "      <td>6.0</td>\n",
              "      <td>MANUAL</td>\n",
              "      <td>rear wheel drive</td>\n",
              "      <td>2.0</td>\n",
              "      <td>Luxury,Performance</td>\n",
              "      <td>Compact</td>\n",
              "      <td>Coupe</td>\n",
              "      <td>28</td>\n",
              "      <td>18</td>\n",
              "      <td>3916</td>\n",
              "      <td>29450</td>\n",
              "    </tr>\n",
              "    <tr>\n",
              "      <th>4</th>\n",
              "      <td>BMW</td>\n",
              "      <td>1 Series</td>\n",
              "      <td>2011</td>\n",
              "      <td>premium unleaded (required)</td>\n",
              "      <td>230.0</td>\n",
              "      <td>6.0</td>\n",
              "      <td>MANUAL</td>\n",
              "      <td>rear wheel drive</td>\n",
              "      <td>2.0</td>\n",
              "      <td>Luxury</td>\n",
              "      <td>Compact</td>\n",
              "      <td>Convertible</td>\n",
              "      <td>28</td>\n",
              "      <td>18</td>\n",
              "      <td>3916</td>\n",
              "      <td>34500</td>\n",
              "    </tr>\n",
              "  </tbody>\n",
              "</table>\n",
              "</div>"
            ],
            "text/plain": [
              "  Make       Model  Year  ... city mpg  Popularity   MSRP\n",
              "0  BMW  1 Series M  2011  ...       19        3916  46135\n",
              "1  BMW    1 Series  2011  ...       19        3916  40650\n",
              "2  BMW    1 Series  2011  ...       20        3916  36350\n",
              "3  BMW    1 Series  2011  ...       18        3916  29450\n",
              "4  BMW    1 Series  2011  ...       18        3916  34500\n",
              "\n",
              "[5 rows x 16 columns]"
            ]
          },
          "metadata": {
            "tags": []
          },
          "execution_count": 3
        }
      ]
    },
    {
      "cell_type": "markdown",
      "metadata": {
        "id": "Lo1vGph_hmuX",
        "colab_type": "text"
      },
      "source": [
        "Убедитесь, что понимаете название каждого признака (MPG -  miles per gallon, расход топлива; MSRP-manufacturer's suggested retail price, рекомендованная производителем розничная цена)."
      ]
    },
    {
      "cell_type": "code",
      "metadata": {
        "id": "k1eWy9NchmuY",
        "colab_type": "code",
        "outputId": "ed2d3105-d62c-44cd-c9d4-cfb6f8eb2d96",
        "colab": {
          "base_uri": "https://localhost:8080/",
          "height": 374
        }
      },
      "source": [
        "car.info()"
      ],
      "execution_count": 0,
      "outputs": [
        {
          "output_type": "stream",
          "text": [
            "<class 'pandas.core.frame.DataFrame'>\n",
            "RangeIndex: 11914 entries, 0 to 11913\n",
            "Data columns (total 16 columns):\n",
            "Make                 11914 non-null object\n",
            "Model                11914 non-null object\n",
            "Year                 11914 non-null int64\n",
            "Engine Fuel Type     11911 non-null object\n",
            "Engine HP            11845 non-null float64\n",
            "Engine Cylinders     11884 non-null float64\n",
            "Transmission Type    11914 non-null object\n",
            "Driven_Wheels        11914 non-null object\n",
            "Number of Doors      11908 non-null float64\n",
            "Market Category      8172 non-null object\n",
            "Vehicle Size         11914 non-null object\n",
            "Vehicle Style        11914 non-null object\n",
            "highway MPG          11914 non-null int64\n",
            "city mpg             11914 non-null int64\n",
            "Popularity           11914 non-null int64\n",
            "MSRP                 11914 non-null int64\n",
            "dtypes: float64(3), int64(5), object(8)\n",
            "memory usage: 1.5+ MB\n"
          ],
          "name": "stdout"
        }
      ]
    },
    {
      "cell_type": "markdown",
      "metadata": {
        "id": "FR_sQ_ryhmub",
        "colab_type": "text"
      },
      "source": [
        "## Ответьте на следующие вопросы. "
      ]
    },
    {
      "cell_type": "markdown",
      "metadata": {
        "id": "KibK1V8Fhmuc",
        "colab_type": "text"
      },
      "source": [
        "#### 1. Сколько всего объектов в выборке?"
      ]
    },
    {
      "cell_type": "code",
      "metadata": {
        "id": "M6llOtVChmuc",
        "colab_type": "code",
        "outputId": "91e65fb1-dca7-4007-fb65-c8b217c3f8d5",
        "colab": {
          "base_uri": "https://localhost:8080/",
          "height": 34
        }
      },
      "source": [
        "car.shape[0]#ваш код здесь  "
      ],
      "execution_count": 0,
      "outputs": [
        {
          "output_type": "execute_result",
          "data": {
            "text/plain": [
              "11914"
            ]
          },
          "metadata": {
            "tags": []
          },
          "execution_count": 5
        }
      ]
    },
    {
      "cell_type": "markdown",
      "metadata": {
        "id": "4EdPs0Zwhmug",
        "colab_type": "text"
      },
      "source": [
        "#### 2. Сколько различных автопроизводителей?"
      ]
    },
    {
      "cell_type": "code",
      "metadata": {
        "id": "iHnGwG33hmuh",
        "colab_type": "code",
        "outputId": "a35f8145-cd50-42c7-df58-5d6cf2872717",
        "colab": {
          "base_uri": "https://localhost:8080/",
          "height": 34
        }
      },
      "source": [
        "car['Make'].nunique()#ваш код здесь  "
      ],
      "execution_count": 0,
      "outputs": [
        {
          "output_type": "execute_result",
          "data": {
            "text/plain": [
              "48"
            ]
          },
          "metadata": {
            "tags": []
          },
          "execution_count": 6
        }
      ]
    },
    {
      "cell_type": "markdown",
      "metadata": {
        "id": "K0_byIFMhmuk",
        "colab_type": "text"
      },
      "source": [
        "#### 3. Постройте рейтинг производителей по числу представленных автомобилей. Какое место занимает в этом рейтинге Toyota? "
      ]
    },
    {
      "cell_type": "code",
      "metadata": {
        "scrolled": true,
        "id": "0amZbg8Ehmuk",
        "colab_type": "code",
        "outputId": "2ba6f4ed-f903-41b6-f164-f328fcdd3117",
        "colab": {
          "base_uri": "https://localhost:8080/",
          "height": 884
        }
      },
      "source": [
        "rating = car['Make'].value_counts()#ваш код здесь  \n",
        "pos_rat = pd.DataFrame({'Company':rating.index, 'Number of cars':rating.values})\n",
        "print(pos_rat,'\\n')\n",
        "print(\"Toyota's position is\",pos_rat.loc[pos_rat['Company']=='Toyota'].index[0]+1)"
      ],
      "execution_count": 0,
      "outputs": [
        {
          "output_type": "stream",
          "text": [
            "          Company  Number of cars\n",
            "0       Chevrolet            1123\n",
            "1            Ford             881\n",
            "2      Volkswagen             809\n",
            "3          Toyota             746\n",
            "4           Dodge             626\n",
            "5          Nissan             558\n",
            "6             GMC             515\n",
            "7           Honda             449\n",
            "8           Mazda             423\n",
            "9        Cadillac             397\n",
            "10  Mercedes-Benz             353\n",
            "11         Suzuki             351\n",
            "12            BMW             334\n",
            "13       Infiniti             330\n",
            "14           Audi             328\n",
            "15        Hyundai             303\n",
            "16          Volvo             281\n",
            "17         Subaru             256\n",
            "18          Acura             252\n",
            "19            Kia             231\n",
            "20     Mitsubishi             213\n",
            "21          Lexus             202\n",
            "22          Buick             196\n",
            "23       Chrysler             187\n",
            "24        Pontiac             186\n",
            "25        Lincoln             164\n",
            "26     Oldsmobile             150\n",
            "27     Land Rover             143\n",
            "28        Porsche             136\n",
            "29           Saab             111\n",
            "30   Aston Martin              93\n",
            "31       Plymouth              82\n",
            "32        Bentley              74\n",
            "33        Ferrari              69\n",
            "34           FIAT              62\n",
            "35          Scion              60\n",
            "36       Maserati              58\n",
            "37    Lamborghini              52\n",
            "38    Rolls-Royce              31\n",
            "39          Lotus              29\n",
            "40          Tesla              18\n",
            "41         HUMMER              17\n",
            "42        Maybach              16\n",
            "43     Alfa Romeo               5\n",
            "44        McLaren               5\n",
            "45        Genesis               3\n",
            "46        Bugatti               3\n",
            "47         Spyker               3 \n",
            "\n",
            "Toyota's position is 4\n"
          ],
          "name": "stdout"
        }
      ]
    },
    {
      "cell_type": "markdown",
      "metadata": {
        "id": "4sFX4qDqhmun",
        "colab_type": "text"
      },
      "source": [
        "####    4. Каким может быть число дверей у автомобиля в выборке?"
      ]
    },
    {
      "cell_type": "code",
      "metadata": {
        "id": "rOdZ6WHChmuo",
        "colab_type": "code",
        "outputId": "f172bcac-a7df-409a-e484-470a216ae3df",
        "colab": {
          "base_uri": "https://localhost:8080/",
          "height": 51
        }
      },
      "source": [
        "doors = set(car['Number of Doors'].dropna())#ваш код здесь  \n",
        "print(\"Cars can have\",doors, 'doors')\n",
        "\n",
        "print(\"Total number of categories\",car['Number of Doors'].nunique())"
      ],
      "execution_count": 0,
      "outputs": [
        {
          "output_type": "stream",
          "text": [
            "Cars can have {2.0, 3.0, 4.0} doors\n",
            "Total number of categories 3\n"
          ],
          "name": "stdout"
        }
      ]
    },
    {
      "cell_type": "markdown",
      "metadata": {
        "id": "JT5xI5Gbhmur",
        "colab_type": "text"
      },
      "source": [
        "####    5. Каков процент четырехдверных автомобилей?"
      ]
    },
    {
      "cell_type": "code",
      "metadata": {
        "id": "jDXpi5d7hmur",
        "colab_type": "code",
        "outputId": "555a6aa6-41df-4299-cedf-54242aeca7d1",
        "colab": {
          "base_uri": "https://localhost:8080/",
          "height": 34
        }
      },
      "source": [
        "per = len(car.loc[car['Number of Doors']==4])/len(car)#ваш код здесь  \n",
        "print(\"Percantege of 4-door cars is\", per*100)"
      ],
      "execution_count": 0,
      "outputs": [
        {
          "output_type": "stream",
          "text": [
            "Percantege of 4-door cars is 70.1107940238375\n"
          ],
          "name": "stdout"
        }
      ]
    },
    {
      "cell_type": "markdown",
      "metadata": {
        "id": "QHq4bHdBhmuu",
        "colab_type": "text"
      },
      "source": [
        "#### 6. Составьте таблицу топ-100 самых дорогих автомобилей в выборке. Сколько автопроизводителей вошло в топ-100? "
      ]
    },
    {
      "cell_type": "code",
      "metadata": {
        "id": "IJKH2MUPhmuv",
        "colab_type": "code",
        "outputId": "3b3ae73a-37cd-4672-db13-ae18749fdbf9",
        "colab": {
          "base_uri": "https://localhost:8080/",
          "height": 289
        }
      },
      "source": [
        "expensive = car.sort_values(by='MSRP', ascending=False).head(100)\n",
        "print(expensive,'\\n')\n",
        "print('Number of diferrent manufactures in top-100 most expensive cars is',expensive[\"Make\"].nunique())#ваш код здесь "
      ],
      "execution_count": 0,
      "outputs": [
        {
          "output_type": "stream",
          "text": [
            "               Make        Model  Year  ... city mpg  Popularity     MSRP\n",
            "11362       Bugatti  Veyron 16.4  2008  ...        8         820  2065902\n",
            "11364       Bugatti  Veyron 16.4  2009  ...        8         820  1705769\n",
            "8486    Lamborghini     Reventon  2008  ...        9        1158  1500000\n",
            "11363       Bugatti  Veyron 16.4  2008  ...        8         820  1500000\n",
            "6351        Maybach    Landaulet  2012  ...       10          67  1382750\n",
            "...             ...          ...   ...  ...      ...         ...      ...\n",
            "2891        Bentley  Continental  2001  ...       10         520   299900\n",
            "7020        Bentley     Mulsanne  2014  ...       11         520   298900\n",
            "3546   Aston Martin          DBS  2012  ...       12         259   296387\n",
            "11206  Aston Martin     Vanquish  2014  ...       13         259   296295\n",
            "5281    Rolls-Royce        Ghost  2013  ...       13          86   296000\n",
            "\n",
            "[100 rows x 16 columns] \n",
            "\n",
            "Number of diferrent manufactures in top-100 most expensive cars is 10\n"
          ],
          "name": "stdout"
        }
      ]
    },
    {
      "cell_type": "markdown",
      "metadata": {
        "id": "fd9n1oGNhmuy",
        "colab_type": "text"
      },
      "source": [
        "####    7. Много ли автомобилей Lexus вошли в топ-100? "
      ]
    },
    {
      "cell_type": "code",
      "metadata": {
        "id": "guvAsgCWhmuz",
        "colab_type": "code",
        "outputId": "562549bc-0308-49cc-9314-c4103f81b1f3",
        "colab": {
          "base_uri": "https://localhost:8080/",
          "height": 34
        }
      },
      "source": [
        "print(\"Number of Lexus models in top 100 is\",len(expensive.loc[expensive['Make']=='Lexus']))#ваш код здесь "
      ],
      "execution_count": 0,
      "outputs": [
        {
          "output_type": "stream",
          "text": [
            "Number of Lexus models in top 100 is 1\n"
          ],
          "name": "stdout"
        }
      ]
    },
    {
      "cell_type": "markdown",
      "metadata": {
        "id": "kwAUt_4fhmu1",
        "colab_type": "text"
      },
      "source": [
        "####    8. Сколько различных моделей Bentley представлено в топ-100? "
      ]
    },
    {
      "cell_type": "code",
      "metadata": {
        "id": "0WKWsoHfhmu2",
        "colab_type": "code",
        "outputId": "ed82a234-ad26-4752-93c7-1e3becaeed0a",
        "colab": {
          "base_uri": "https://localhost:8080/",
          "height": 34
        }
      },
      "source": [
        "print(len(expensive.groupby('Make').get_group('Bentley')['Model'].value_counts()))\n"
      ],
      "execution_count": 0,
      "outputs": [
        {
          "output_type": "stream",
          "text": [
            "6\n"
          ],
          "name": "stdout"
        }
      ]
    },
    {
      "cell_type": "markdown",
      "metadata": {
        "id": "nuyOEcjYhmu4",
        "colab_type": "text"
      },
      "source": [
        "####    9.  Выберите верные утверждения:\n",
        "    \n",
        "* Наиболее дорогие в среднем автомобили в топ-100 - это автомобили производства Maybach. \n",
        "    \n",
        "* Среди автомобилей топ-100 нет автомобилей с механической коробкой передач (MANUAL). \n",
        "    \n",
        "* Все автомобили топ-100 потребляют одну категорию топлива (Engine Fuel Type). \n",
        "    \n",
        "* Среди автомобилей топ-100 нет автомобилей старше 8 лет. \n",
        "    \n",
        "* Большинство автомобилей топ-100 имею 12 цилиндров. \n",
        "    \n",
        "* У большинства автомобилей топ-100 большие колеса. "
      ]
    },
    {
      "cell_type": "code",
      "metadata": {
        "id": "sCxB9mA8hmu5",
        "colab_type": "code",
        "outputId": "25cd05ff-9621-4cf1-d9ff-a912cb89cb44",
        "colab": {
          "base_uri": "https://localhost:8080/",
          "height": 153
        }
      },
      "source": [
        "#1\n",
        "print(\"1. Most expensive cars are made by Maybach:\",\n",
        "      expensive.groupby('Make')['MSRP'].mean().sort_values(ascending=False).index[0]=='Maybach')\n",
        "\n",
        "#2\n",
        "print(\"2. There are no cars with manual transmission:\",\n",
        "      len(expensive.loc[expensive[\"Transmission Type\"]==\"MANUAL\"])==0)#ваш код здесь\n",
        "\n",
        "#3\n",
        "print(\"3. All cars in top-100 consume the same engine fuel type:\",\n",
        "      expensive['Engine Fuel Type'].nunique()==1)\n",
        "\n",
        "#4\n",
        "print(\"4. There are no cars in top-100 older then 8 years:\",\n",
        "      len(expensive.loc[expensive['Year']<2012])==0)\n",
        "\n",
        "#5\n",
        "print(\"5. Most cars in top-100 have 12-cylinders:\",\n",
        "      expensive[\"Engine Cylinders\"].value_counts().index[0]==12)\n",
        "\n",
        "#6\n",
        "print(\"6. Most cars in top-100 are Large:\",\n",
        "      expensive[\"Vehicle Size\"].value_counts().index[0]==\"Large\")\n",
        "\n",
        "print('\\n',\"True ones are 3, 5, 6\")"
      ],
      "execution_count": 0,
      "outputs": [
        {
          "output_type": "stream",
          "text": [
            "1. Most expensive cars are made by Maybach: False\n",
            "2. There are no cars with manual transmission: False\n",
            "3. All cars in top-100 consume the same engine fuel type: True\n",
            "4. There are no cars in top-100 older then 8 years: False\n",
            "5. Most cars in top-100 have 12-cylinders: True\n",
            "6. Most cars in top-100 are Large: True\n",
            "\n",
            " True ones are 3, 5, 6\n"
          ],
          "name": "stdout"
        }
      ]
    },
    {
      "cell_type": "markdown",
      "metadata": {
        "id": "hqXzSJEvhmu8",
        "colab_type": "text"
      },
      "source": [
        "####    10. Постройте распределения расхода топлива по городу (city mpg) для автомобилей с ручной коробкой передач и автоматической. \n",
        "Не забудьте про подписи осей, размеры шрифтов, легенду."
      ]
    },
    {
      "cell_type": "code",
      "metadata": {
        "id": "qJIBVR-chmu8",
        "colab_type": "code",
        "outputId": "c6322b81-15cb-4740-c9a0-85edffd77be7",
        "colab": {
          "base_uri": "https://localhost:8080/",
          "height": 523
        }
      },
      "source": [
        "#ваш код здесь\n",
        "from google.colab import files\n",
        "\n",
        "tt = car.groupby(\"Transmission Type\")\n",
        "\n",
        "#car.loc[car['Transmission Type'].isin(['AUTOMATIC','MANUAL'])].group_\n",
        "\n",
        "fig, axs = plt.subplots(1, 2, sharex=True, tight_layout=False)\n",
        "n_bins= 20\n",
        "\n",
        "fig.set_size_inches(11,8)\n",
        "plt.rc('font', size=12) \n",
        "\n",
        "axs[0].hist(tt.get_group('AUTOMATIC')['city mpg'], bins=n_bins, density=True)\n",
        "axs[0].set_xlabel('city mpg', fontsize=15)\n",
        "axs[0].set_ylabel('Proportio of cars', fontsize=15)\n",
        "axs[0].set_title('City mpg dist for AUTOMATIC',fontsize=15)\n",
        "\n",
        "axs[1].hist(tt.get_group('MANUAL')['city mpg'], bins=n_bins, density=True)\n",
        "axs[1].set_xlabel('city mpg', fontsize=15)\n",
        "axs[1].set_ylabel('Proportion of cars', fontsize=15)\n",
        "axs[1].set_title('City mpg dist for MANUAL',fontsize=15)\n",
        "\n",
        "plt.savefig(\"citympg.png\")\n",
        "files.download(\"citympg.png\") \n",
        "\n",
        "#plt.show()\n"
      ],
      "execution_count": 33,
      "outputs": [
        {
          "output_type": "display_data",
          "data": {
            "image/png": "[encoded data removed]",
            "text/plain": [
              "<Figure size 792x576 with 2 Axes>"
            ]
          },
          "metadata": {
            "tags": []
          }
        }
      ]
    },
    {
      "cell_type": "markdown",
      "metadata": {
        "id": "M7lhvLX0hmu_",
        "colab_type": "text"
      },
      "source": [
        "####    11. Постройте зависимость средней стоимости автомобиля от числа цилиндров. \n",
        "Используйте функцию plt.errorbar, чтобы помимо средних значений отобразить среднеквадратичное отклонение величины."
      ]
    },
    {
      "cell_type": "code",
      "metadata": {
        "id": "vsXsR7FxhmvA",
        "colab_type": "code",
        "outputId": "4f7e46c1-e126-4f3b-bab3-fb5c06b9151a",
        "colab": {
          "base_uri": "https://localhost:8080/",
          "height": 630
        }
      },
      "source": [
        "mean_price = car.groupby('Engine Cylinders')['MSRP'].mean()\n",
        "std_errors = car.groupby('Engine Cylinders')['MSRP'].std()\n",
        "\n",
        "fig = plt.figure(figsize=(10,10))\n",
        "plt.title(\"Dependence of mean MSRP on engine cylinders\", fontsize=14)\n",
        "plt.xlabel('Engine Cylinders', fontsize=14)\n",
        "plt.ylabel('MSRP', fontsize=14)\n",
        "\n",
        "plt.errorbar(mean_price.index, mean_price.values,yerr=std_errors,ecolor='black',\n",
        "       capsize=10)\n",
        "#plt.show()\n",
        "\n",
        "plt.savefig(\"msrp.png\")\n",
        "files.download(\"msrp.png\") \n",
        "#ваш код здесь "
      ],
      "execution_count": 36,
      "outputs": [
        {
          "output_type": "display_data",
          "data": {
            "image/png": "[encoded data removed]",
            "text/plain": [
              "<Figure size 720x720 with 1 Axes>"
            ]
          },
          "metadata": {
            "tags": []
          }
        }
      ]
    },
    {
      "cell_type": "markdown",
      "metadata": {
        "id": "K_3j2w5KhmvD",
        "colab_type": "text"
      },
      "source": [
        "####    12. Постройте boxplot, отображающий распределение стоимости автомобилей следующих марок: Audi, Toyota, BMW, Mazda, Hyundai. \n",
        "Не забудьте про подписи осей, размеры шрифтов."
      ]
    },
    {
      "cell_type": "code",
      "metadata": {
        "id": "ar46llBdhmvF",
        "colab_type": "code",
        "outputId": "780e9d4d-4a19-4e48-ca0c-d3fc14a35be8",
        "colab": {
          "base_uri": "https://localhost:8080/",
          "height": 614
        }
      },
      "source": [
        "audi = car[(car['Make'] == 'Audi')]['MSRP'].dropna().values\n",
        "toyota = car[(car['Make'] == 'Toyota')]['MSRP'].dropna().values\n",
        "bmw = car[(car['Make'] == 'BMW')]['MSRP'].dropna().values\n",
        "mazda = car[(car['Make'] == 'Mazda')]['MSRP'].dropna().values\n",
        "hyundai = car[(car['Make'] == 'Hyundai')]['MSRP'].dropna().values\n",
        "\n",
        "fig = plt.figure(figsize=(10,10))\n",
        "plt.boxplot([audi, toyota, bmw, mazda, hyundai],\n",
        "                labels=['Audi', 'Toyota', 'BMW', 'Mazda', 'Hyundai'],)\n",
        "plt.tick_params(axis='both', which='major', labelsize=14)\n",
        "plt.ylabel('MSRP', fontsize=14)\n",
        "plt.title(\"Box plot of car prices for selected manufactures\",fontsize=16)\n",
        "\n",
        "plt.savefig(\"box_plot.png\")\n",
        "files.download(\"box_plot.png\")\n",
        "plt.show()\n",
        "#ваш код здесь "
      ],
      "execution_count": 38,
      "outputs": [
        {
          "output_type": "display_data",
          "data": {
            "image/png": "[encoded data removed]",
            "text/plain": [
              "<Figure size 720x720 with 1 Axes>"
            ]
          },
          "metadata": {
            "tags": []
          }
        }
      ]
    }
  ]
}