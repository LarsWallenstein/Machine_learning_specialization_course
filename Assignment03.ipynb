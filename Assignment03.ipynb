{
 "cells": [
  {
   "cell_type": "markdown",
   "metadata": {
    "colab_type": "text",
    "id": "rdLuIieTjb1A"
   },
   "source": [
    "# Задание 03"
   ]
  },
  {
   "cell_type": "markdown",
   "metadata": {
    "colab_type": "text",
    "id": "7dnZ4wWrjb1G"
   },
   "source": [
    "### 1. Связь AUC-ROC  и доли верных ответов (2 балла)\n",
    "Пусть дана некоторая выборка $X$ и классификатор $b(x)$, возвращающий в качестве оценки принадлежности объекта $x$ к положительному классу 0 или 1 (а не вероятности). \n",
    "\n",
    "1) Постройте ROC-кривую для классификатора $b(x)$ на выборке $X$.\n",
    "\n",
    "2) Покажите, что AUC-ROC классификатора $b(x)$ может быть выражена через долю правильных ответов и полноту классификатора $a(x;t)$, получающегося при выборе некоторого порога $t \\in (0;1)$ ($a(x)=[b(x)>t]$). Помимо указанных величин в формулу могут входить $N,N_+,N_-$, число объектов, число положительных и отрицательных объектов в выборке $X$ соответсвенно. \n",
    "\n",
    "\n",
    "### 2. ROC, PR кривые  (2 балла)\n",
    "Алгоритм  бинарной классификации выдает оценки вероятности принадлежности к положительному классу  $b_i=\\hat{\\mathcal{ P}}(y_i=+|x_i)$. Всего есть $N=10 000$ наблюдений. Если ранжировать их по возрастанию $b_i$, то окажется, что наблюдения с $y_i=1$ и наблюдения с $y_i=0$ образуют чередующиеся блоки различного размера:\n",
    "$$\n",
    "\\underbrace{-------}_{3N/8}\\underbrace{+++++++}_{3N/8}\\underbrace{-------}_{N/8}\\underbrace{+++++++}_{N/8}\n",
    "$$\n",
    "Постройте $ROC$ и $PR$ кривые, определите площади под кривыми. "
   ]
  },
  {
   "cell_type": "markdown",
   "metadata": {},
   "source": [
    "# Задание 1\n",
    "\n",
    "1. Roc-curve:\n",
    "    Поскольку у нас в задаче речь идёт о бинарном алгоритме, то на графике рок-кривой будет всего три точки, (0.0), (1,1) и (FPR,TPR), если пороговое значение для промежуточной точки находится в интервале (0,1), в проивном случае на графике будут присутствовать лишь две крайние точки\n",
    "<img src=\"roccurve.png\">\n",
    "\n",
    "2. Вычислим AUC-ROC:\n",
    "    \n",
    "    Площадь под линией можно представить в виде суммы двух площадей: треугольника и трапеции.\n",
    "    \n",
    "    $$AUC = S_{triangle}+S_{trapezium}$$\t\n",
    "    \n",
    "    $$S_{triangle} = \\frac{TPR\\cdot FPR}{2}$$\n",
    "    \n",
    "    $$S_{trapezium} = \\frac{TPR+1}{2}\\cdot (1-FPR)$$\n",
    "    \n",
    "    $$AUC=\\frac{TPR\\cdot FPR}{2}+\\frac{TPR+1}{2}\\cdot (1-FPR)=\\frac{TPR-FPR+1}{2}$$\n",
    "    \n",
    "    Теперь покажем, что можно выразить данный показатель через полноту алгоритма a(x,t) и долю правильных ответов алгоритма b(x).\n",
    "    \n",
    "    Для начала обозначим полноту алгоритма а, как pax, и рассмотрим, чему она равна. Так как она строится на основании ответов алгоритма b при возможности варьировать порог только внутри интервала (0,1), поэтому значение полноты будет постоянным и будет совпадать с TPR для алгоритма b.\n",
    "    \n",
    "    $$pax = \\frac{TP}{TP+FN}$$\n",
    "    \n",
    "    $$TPR = \\frac{TP}{TP+FN}$$\n",
    "    \n",
    "    Поэтому нам лишь необходимо выразить FPR, в котором знаменатель равен $N_{-}$\n",
    "    \n",
    "    $$FPR=\\frac{FP}{FP+TN}$$\n",
    "    \n",
    "    При этом TP можно выразить через pax:\n",
    "    \n",
    "    $$pax\\cdot N_+=TP$$\n",
    "    \n",
    "    Запишем теперь выражение для accuracy:\n",
    "    \n",
    "    $$accuracy=\\frac{TP+TN}{TP+TN+FP+FN}$$\n",
    "    \n",
    "    Отсюда\n",
    "    \n",
    "    $$TN=\\frac{accuracy}{N}-TP$$\n",
    "    \n",
    "    Зная, что:\n",
    "    \n",
    "    $$FP=N_--TN$$\n",
    "    \n",
    "    Можем записать выражение для FP:\n",
    "    \n",
    "    $$FP=N_--\\frac{accuracy}{N}+pax\\cdot N_+$$\n",
    "    \n",
    "    Тогда FPR запишется следующим образом:\n",
    "    \n",
    "    $$FPR = \\frac{N_--\\frac{accuracy}{N}+pax\\cdot N_+}{N_-}$$\n",
    "    \n",
    "    Отсюда следует, что auc выражается подстановкой полученных значений FPR и TPR в изначальную формулу"
   ]
  },
  {
   "cell_type": "markdown",
   "metadata": {},
   "source": [
    "# ROC, PR кривые\n",
    "\n",
    "    1. ROC-curve\n",
    "    \n",
    "<img src=\"roccurve2.png\">\n",
    "\n",
    "$$AUC=0.25*0.25+0.75*1=0.8125$$\n",
    "\n",
    "    2. Теперь перейдём к pr кривой, тут все довольно очевидно до того момента, когда мы подходим к увеличению порога для куска объектов, длиной 3/8N, так как ничего в задании не сказано про то, равны ли вероятности, выдаваемые алгоритмом на этих объектах, поэтому будем считать, что они не равны, в таком случае происходит следующее:\n",
    "    \n",
    "    Значение TP при увеличении порога будет стремиться от 5000/10000 к 1250/10000, по 1/10000 за объект.\n",
    "    \n",
    "    При этом параметр FP будет оставаться неизменным и равняться 1250/10000.\n",
    "    \n",
    "    Recall же за каждый пройденный объект будет уменьшаться на 0.75/3750\n",
    "    \n",
    "    График на этих объектах в таком случае опишет дугу, которая будет состоять из множества маленьких трапеций, сумма площадей которых будет нас интересовать в дальнейшем. Сам график выглядит следующим образом\n",
    "    \n",
    "   <img src=\"prcurve.png\">\n",
    "   \n",
    "    Площадь графика под pr кривой можно посчитать, как сумму площадей под дугой и прямоугольника.\n",
    "    \n",
    "   $$S_{rectangle} = 0.25*1 = 0.25$$\n",
    "    \n",
    "    Площадь же под дугой можно вычислить, как уже отмечалось через сумму площадей трапеций, тогда для неё получаем формулу:\n",
    "    \n",
    "  $$\n",
    "    S_{curve}=\\sum_{t=0}^{3749}\\frac{Precision_t+Precision_{t+1}}{2}\\cdot \\frac{0.75}{3750}\n",
    "  $$\n",
    "  \n",
    "    Это примерно равняется 0.521\n",
    "    \n",
    "    Тогда полная площадь под pr кривой равняется: \n",
    "    \n",
    "   $$S_{pr}=0.771$$\n",
    "    \n",
    "    Если же мы предположим, что на данном куске из объектов, вероятности, которые для них выдаёт алгоритм одинаковые, то вместо дуги мы получим прямую линию, соединяющую точки (0.25, 0.5) и (1, 0.8). В таком случае площадт под кривой будет равна:\n",
    "    \n",
    "   $$S_{pr}=0.25+\\frac{(0.8+0.5)}{2} \\cdot 0.75 = 0.7375$$"
   ]
  },
  {
   "cell_type": "code",
   "execution_count": 81,
   "metadata": {},
   "outputs": [
    {
     "name": "stdout",
     "output_type": "stream",
     "text": [
      "0.5209273142314769\n",
      "AUC-PR: 0.7709273142314769\n"
     ]
    }
   ],
   "source": [
    "TP = 5000.0/10000\n",
    "FP = 1250.0/10000\n",
    "area = 0.0\n",
    "for i in range(3750):\n",
    "    TP2 = TP-10**(-4)\n",
    "    area+=(TP/(TP+FP)+TP2/(TP2+FP))/2\n",
    "    TP-=10**(-4)\n",
    "area*=0.75/3750\n",
    "print(area)\n",
    "area+=(0.25*1)\n",
    "print(\"AUC-PR:\",area)"
   ]
  },
  {
   "cell_type": "markdown",
   "metadata": {
    "colab_type": "text",
    "id": "TFgdFXwejb1I"
   },
   "source": [
    "### 3. Логистическая регрессия на данных (6 баллов )"
   ]
  },
  {
   "cell_type": "code",
   "execution_count": 1,
   "metadata": {
    "colab": {},
    "colab_type": "code",
    "id": "bzu7f6rAjb1L"
   },
   "outputs": [],
   "source": [
    "import numpy as np\n",
    "import pandas as pd\n",
    "\n",
    "%matplotlib inline\n",
    "import matplotlib.pyplot as plt\n",
    "\n",
    "from sklearn.linear_model import LogisticRegression\n",
    "\n",
    "from sklearn.model_selection import train_test_split\n",
    "from sklearn.model_selection import ShuffleSplit\n",
    "from sklearn.model_selection import GridSearchCV\n",
    "\n",
    "from sklearn import metrics"
   ]
  },
  {
   "cell_type": "markdown",
   "metadata": {
    "colab_type": "text",
    "id": "8uVwg7tljb1T"
   },
   "source": [
    "### [Данные](https://archive.ics.uci.edu/ml/datasets/Bank+Marketing)\n",
    "Будем анализировать данные, связанные с прямыми маркетинговыми кампаниями (телефонными звонками) португальского банковского учреждения. Цель классификации - предсказать, будет ли клиент подписывать (1/0) срочный депозит (переменная y).\n",
    "\n",
    "\n",
    "\n",
    "   #### bank client data:\n",
    "   * 1 - age (numeric)\n",
    "   * 2 - job : type of job (categorical: \"admin.\",\"unknown\",\"unemployed\",\"management\",\"housemaid\",\"entrepreneur\",\"student\",\n",
    "      \"blue-collar\",\"self-employed\",\"retired\",\"technician\",\"services\") \n",
    "   * 3 - marital : marital status (categorical: \"married\",\"divorced\",\"single\"; note: \"divorced\" means divorced or widowed)\n",
    "   * 4 - education (categorical: \"unknown\",\"secondary\",\"primary\",\"tertiary\")\n",
    "   * 5 - default: has credit in default? (binary: \"yes\",\"no\")\n",
    "   * 6 - balance: average yearly balance, in euros (numeric) \n",
    "   * 7 - housing: has housing loan? (binary: \"yes\",\"no\")\n",
    "   * 8 - loan: has personal loan? (binary: \"yes\",\"no\")\n",
    "   related with the last contact of the current campaign:\n",
    "   * 9 - contact: contact communication type (categorical: \"unknown\",\"telephone\",\"cellular\") \n",
    "   * 10 - day: last contact day of the month (numeric)\n",
    "   * 11 - month: last contact month of year (categorical: \"jan\", \"feb\", \"mar\", ..., \"nov\", \"dec\")\n",
    "   * 12 - duration: last contact duration, in seconds (numeric)\n",
    "   other attributes:\n",
    "   * 13 - campaign: number of contacts performed during this campaign and for this client (numeric, includes last contact)\n",
    "   * 14 - pdays: number of days that passed by after the client was last contacted from a previous campaign (numeric, -1 means client was not previously contacted)\n",
    "   * 15 - previous: number of contacts performed before this campaign and for this client (numeric)\n",
    "   * 16 - poutcome: outcome of the previous marketing campaign (categorical: \"unknown\",\"other\",\"failure\",\"success\")\n",
    "\n",
    "  #### Output variable (target):\n",
    "   * 17 - y - has the client subscribed a term deposit? (binary: \"yes\",\"no\")"
   ]
  },
  {
   "cell_type": "code",
   "execution_count": 0,
   "metadata": {
    "colab": {},
    "colab_type": "code",
    "id": "iv-C4SVcjb1V"
   },
   "outputs": [],
   "source": [
    "from google.colab import files\n",
    "\n",
    "uploaded = files.upload()\n",
    "\n",
    "for fn in uploaded.keys():\n",
    "  print('User uploaded file \"{name}\" with length {length} bytes'.format(\n",
    "      name=fn, length=len(uploaded[fn])))"
   ]
  },
  {
   "cell_type": "code",
   "execution_count": 2,
   "metadata": {
    "colab": {},
    "colab_type": "code",
    "id": "GifTSomIjb1c",
    "outputId": "ea7baf0c-77a4-44db-9f5f-a1350ca37fbf"
   },
   "outputs": [
    {
     "data": {
      "text/html": [
       "<div>\n",
       "<style scoped>\n",
       "    .dataframe tbody tr th:only-of-type {\n",
       "        vertical-align: middle;\n",
       "    }\n",
       "\n",
       "    .dataframe tbody tr th {\n",
       "        vertical-align: top;\n",
       "    }\n",
       "\n",
       "    .dataframe thead th {\n",
       "        text-align: right;\n",
       "    }\n",
       "</style>\n",
       "<table border=\"1\" class=\"dataframe\">\n",
       "  <thead>\n",
       "    <tr style=\"text-align: right;\">\n",
       "      <th></th>\n",
       "      <th>age</th>\n",
       "      <th>job</th>\n",
       "      <th>marital</th>\n",
       "      <th>education</th>\n",
       "      <th>default</th>\n",
       "      <th>balance</th>\n",
       "      <th>housing</th>\n",
       "      <th>loan</th>\n",
       "      <th>contact</th>\n",
       "      <th>day</th>\n",
       "      <th>month</th>\n",
       "      <th>duration</th>\n",
       "      <th>campaign</th>\n",
       "      <th>pdays</th>\n",
       "      <th>previous</th>\n",
       "      <th>poutcome</th>\n",
       "      <th>y</th>\n",
       "    </tr>\n",
       "  </thead>\n",
       "  <tbody>\n",
       "    <tr>\n",
       "      <th>0</th>\n",
       "      <td>30</td>\n",
       "      <td>unemployed</td>\n",
       "      <td>married</td>\n",
       "      <td>primary</td>\n",
       "      <td>no</td>\n",
       "      <td>1787</td>\n",
       "      <td>no</td>\n",
       "      <td>no</td>\n",
       "      <td>cellular</td>\n",
       "      <td>19</td>\n",
       "      <td>oct</td>\n",
       "      <td>79</td>\n",
       "      <td>1</td>\n",
       "      <td>-1</td>\n",
       "      <td>0</td>\n",
       "      <td>unknown</td>\n",
       "      <td>no</td>\n",
       "    </tr>\n",
       "    <tr>\n",
       "      <th>1</th>\n",
       "      <td>33</td>\n",
       "      <td>services</td>\n",
       "      <td>married</td>\n",
       "      <td>secondary</td>\n",
       "      <td>no</td>\n",
       "      <td>4789</td>\n",
       "      <td>yes</td>\n",
       "      <td>yes</td>\n",
       "      <td>cellular</td>\n",
       "      <td>11</td>\n",
       "      <td>may</td>\n",
       "      <td>220</td>\n",
       "      <td>1</td>\n",
       "      <td>339</td>\n",
       "      <td>4</td>\n",
       "      <td>failure</td>\n",
       "      <td>no</td>\n",
       "    </tr>\n",
       "    <tr>\n",
       "      <th>2</th>\n",
       "      <td>35</td>\n",
       "      <td>management</td>\n",
       "      <td>single</td>\n",
       "      <td>tertiary</td>\n",
       "      <td>no</td>\n",
       "      <td>1350</td>\n",
       "      <td>yes</td>\n",
       "      <td>no</td>\n",
       "      <td>cellular</td>\n",
       "      <td>16</td>\n",
       "      <td>apr</td>\n",
       "      <td>185</td>\n",
       "      <td>1</td>\n",
       "      <td>330</td>\n",
       "      <td>1</td>\n",
       "      <td>failure</td>\n",
       "      <td>no</td>\n",
       "    </tr>\n",
       "    <tr>\n",
       "      <th>3</th>\n",
       "      <td>30</td>\n",
       "      <td>management</td>\n",
       "      <td>married</td>\n",
       "      <td>tertiary</td>\n",
       "      <td>no</td>\n",
       "      <td>1476</td>\n",
       "      <td>yes</td>\n",
       "      <td>yes</td>\n",
       "      <td>unknown</td>\n",
       "      <td>3</td>\n",
       "      <td>jun</td>\n",
       "      <td>199</td>\n",
       "      <td>4</td>\n",
       "      <td>-1</td>\n",
       "      <td>0</td>\n",
       "      <td>unknown</td>\n",
       "      <td>no</td>\n",
       "    </tr>\n",
       "    <tr>\n",
       "      <th>4</th>\n",
       "      <td>59</td>\n",
       "      <td>blue-collar</td>\n",
       "      <td>married</td>\n",
       "      <td>secondary</td>\n",
       "      <td>no</td>\n",
       "      <td>0</td>\n",
       "      <td>yes</td>\n",
       "      <td>no</td>\n",
       "      <td>unknown</td>\n",
       "      <td>5</td>\n",
       "      <td>may</td>\n",
       "      <td>226</td>\n",
       "      <td>1</td>\n",
       "      <td>-1</td>\n",
       "      <td>0</td>\n",
       "      <td>unknown</td>\n",
       "      <td>no</td>\n",
       "    </tr>\n",
       "  </tbody>\n",
       "</table>\n",
       "</div>"
      ],
      "text/plain": [
       "   age          job  marital  education default  balance housing loan  \\\n",
       "0   30   unemployed  married    primary      no     1787      no   no   \n",
       "1   33     services  married  secondary      no     4789     yes  yes   \n",
       "2   35   management   single   tertiary      no     1350     yes   no   \n",
       "3   30   management  married   tertiary      no     1476     yes  yes   \n",
       "4   59  blue-collar  married  secondary      no        0     yes   no   \n",
       "\n",
       "    contact  day month  duration  campaign  pdays  previous poutcome   y  \n",
       "0  cellular   19   oct        79         1     -1         0  unknown  no  \n",
       "1  cellular   11   may       220         1    339         4  failure  no  \n",
       "2  cellular   16   apr       185         1    330         1  failure  no  \n",
       "3   unknown    3   jun       199         4     -1         0  unknown  no  \n",
       "4   unknown    5   may       226         1     -1         0  unknown  no  "
      ]
     },
     "execution_count": 2,
     "metadata": {},
     "output_type": "execute_result"
    }
   ],
   "source": [
    "data = pd.read_csv('/home/lars/Рабочий стол/bank.csv', sep=';',header=0)\n",
    "data.head()"
   ]
  },
  {
   "cell_type": "code",
   "execution_count": 83,
   "metadata": {
    "colab": {},
    "colab_type": "code",
    "id": "dlDXGuLejb1k",
    "outputId": "c39f7aed-9f18-4feb-b505-b19c626be8dd"
   },
   "outputs": [
    {
     "name": "stdout",
     "output_type": "stream",
     "text": [
      "<class 'pandas.core.frame.DataFrame'>\n",
      "RangeIndex: 4521 entries, 0 to 4520\n",
      "Data columns (total 17 columns):\n",
      "age          4521 non-null int64\n",
      "job          4521 non-null object\n",
      "marital      4521 non-null object\n",
      "education    4521 non-null object\n",
      "default      4521 non-null object\n",
      "balance      4521 non-null int64\n",
      "housing      4521 non-null object\n",
      "loan         4521 non-null object\n",
      "contact      4521 non-null object\n",
      "day          4521 non-null int64\n",
      "month        4521 non-null object\n",
      "duration     4521 non-null int64\n",
      "campaign     4521 non-null int64\n",
      "pdays        4521 non-null int64\n",
      "previous     4521 non-null int64\n",
      "poutcome     4521 non-null object\n",
      "y            4521 non-null object\n",
      "dtypes: int64(7), object(10)\n",
      "memory usage: 600.6+ KB\n",
      "None\n"
     ]
    }
   ],
   "source": [
    "print(data.info())"
   ]
  },
  {
   "cell_type": "markdown",
   "metadata": {
    "colab_type": "text",
    "id": "8xCerFSdjb1r"
   },
   "source": [
    "#### 3.1. Какова доля положительных объектов в выборке?"
   ]
  },
  {
   "cell_type": "code",
   "execution_count": 3,
   "metadata": {
    "colab": {},
    "colab_type": "code",
    "id": "xCR64AK5jb1t"
   },
   "outputs": [
    {
     "name": "stdout",
     "output_type": "stream",
     "text": [
      "Доля положительных ответов в выборке: 11.523999115239992 %\n"
     ]
    }
   ],
   "source": [
    "#ваш код здесь\n",
    "print(\"Доля положительных ответов в выборке:\",len(data[data['y']=='yes'])/len(data)*100,\"%\")"
   ]
  },
  {
   "cell_type": "markdown",
   "metadata": {
    "colab_type": "text",
    "id": "ORUH6nPmjb11"
   },
   "source": [
    "####  3. 2. Подготовка данных. \n",
    "1. Подготовьте матрицу объект-признак:\n",
    " * удалите (но не навсегда!) целевой признак ('y') \n",
    "\n",
    " * удалите признак 'day' (можно навсегда) \n",
    "\n",
    " * Все категориальные признаки преобразуйте в бинарные, используя [get_dummies](https://pandas.pydata.org/pandas-docs/stable/reference/api/pandas.get_dummies.html). \n",
    "\n",
    "\n",
    "2. Подготовьте целевой вектор: \n",
    "    \n",
    " * преобразуйте признак 'y' в вектор, состоящий из нулей (y='no') и единиц (y='yes').\n",
    " "
   ]
  },
  {
   "cell_type": "code",
   "execution_count": 4,
   "metadata": {
    "colab": {},
    "colab_type": "code",
    "id": "4-w0gRQLjb13"
   },
   "outputs": [],
   "source": [
    "#ваш код здесь\n",
    "Y = data['y']\n",
    "X = data.iloc[:,:-1]\n",
    "X.drop(['day'],axis=1, inplace=True)\n",
    "X = pd.get_dummies(X, columns=['job', 'marital', 'education', 'default','housing',\n",
    "       'loan', 'contact','month','poutcome'])\n",
    "Y = pd.get_dummies(Y)['yes']"
   ]
  },
  {
   "cell_type": "markdown",
   "metadata": {
    "colab_type": "text",
    "id": "s-3WStrvjb19"
   },
   "source": [
    "#### 3. 3. Логистическая регрессия.\n",
    "\n",
    "* Разделите выборку в соотношении 70:30;\n",
    "\n",
    "* Обучите логистическую регрессию с параметрами по умолчанию. \n"
   ]
  },
  {
   "cell_type": "code",
   "execution_count": 9,
   "metadata": {
    "colab": {},
    "colab_type": "code",
    "id": "8Cnqfj13jb1_"
   },
   "outputs": [
    {
     "name": "stderr",
     "output_type": "stream",
     "text": [
      "/home/lars/anaconda3/lib/python3.7/site-packages/sklearn/linear_model/logistic.py:432: FutureWarning: Default solver will be changed to 'lbfgs' in 0.22. Specify a solver to silence this warning.\n",
      "  FutureWarning)\n"
     ]
    },
    {
     "data": {
      "text/plain": [
       "0.9078850405305822"
      ]
     },
     "execution_count": 9,
     "metadata": {},
     "output_type": "execute_result"
    }
   ],
   "source": [
    "np.random.seed(17)\n",
    "X_train, X_test, y_train, y_test = train_test_split(X, Y, test_size=0.3,shuffle=True)\n",
    "logistic = LogisticRegression()\n",
    "\n",
    "logistic.fit(X_train, y_train)\n",
    "logistic.score(X_test, y_test)\n",
    "#ваш код здесь"
   ]
  },
  {
   "cell_type": "markdown",
   "metadata": {
    "colab_type": "text",
    "id": "R5__p172jb2G"
   },
   "source": [
    "#### 3.4. Чему равны следующие метрики качества:\n",
    "\n",
    "   * Доля верных предсказаний,\n",
    "   * Точность,\n",
    "   * Полнота,\n",
    "   * F1-мера? "
   ]
  },
  {
   "cell_type": "code",
   "execution_count": 11,
   "metadata": {
    "colab": {},
    "colab_type": "code",
    "id": "NCRPmMWYjb2I"
   },
   "outputs": [
    {
     "name": "stdout",
     "output_type": "stream",
     "text": [
      "Доля верных предсказаний 0.9078850405305822\n",
      "Точность 0.6060606060606061\n",
      "Полнота 0.28776978417266186\n",
      "F-мера 0.3902439024390244\n"
     ]
    }
   ],
   "source": [
    "print(\"Доля верных предсказаний\",metrics.accuracy_score(y_test, logistic.predict(X_test)))\n",
    "print(\"Точность\",metrics.precision_score(y_test,logistic.predict(X_test),average='binary'))\n",
    "print(\"Полнота\",metrics.recall_score(y_test,logistic.predict(X_test),average='binary'))\n",
    "print(\"F-мера\",metrics.f1_score(y_test,logistic.predict(X_test),average='binary'))\n",
    "#ваш код здесь"
   ]
  },
  {
   "cell_type": "markdown",
   "metadata": {
    "colab_type": "text",
    "id": "_gKOjhM8jb2O"
   },
   "source": [
    "#### 3.5. Постройте ROC кривую и найдите площадь под кривой. "
   ]
  },
  {
   "cell_type": "code",
   "execution_count": 88,
   "metadata": {
    "colab": {},
    "colab_type": "code",
    "id": "QDWjGpCsjb2Q"
   },
   "outputs": [
    {
     "data": {
      "image/png": "[encoded data removed]",
      "text/plain": [
       "<Figure size 720x720 with 1 Axes>"
      ]
     },
     "metadata": {
      "needs_background": "light"
     },
     "output_type": "display_data"
    },
    {
     "name": "stdout",
     "output_type": "stream",
     "text": [
      "AUC: 0.8813776564954933\n"
     ]
    }
   ],
   "source": [
    "#ваш код здесь\n",
    "\n",
    "fpr, tpr, thresholds = metrics.roc_curve(y_test, logistic.predict_proba(X_test)[:,1], pos_label=1)\n",
    "\n",
    "fig = plt.figure(figsize=(10,10))\n",
    "plt.plot(fpr,tpr)\n",
    "plt.xlabel(\"False positive rate\", fontsize=15)\n",
    "plt.ylabel(\"True positive rate\", fontsize=15)\n",
    "plt.title(\"ROC curve\", fontsize=20)\n",
    "plt.show()\n",
    "\n",
    "print(\"AUC:\",metrics.auc(fpr,tpr))"
   ]
  },
  {
   "cell_type": "markdown",
   "metadata": {
    "colab_type": "text",
    "id": "sL6-5DCYjb2X"
   },
   "source": [
    "#### 3.6. Порог $t$ в модели логистической регрессии по умолчанию $t=0.5$. \n",
    "\n",
    "$a(x) = \\begin{cases}\n",
    "        +1, \\, b(x) \\ge t,\\\\\n",
    "        -1, \\, b(x) < t.\n",
    "        \\end{cases}$ \n",
    "        \n",
    "Измените порог на $t=0.2$. Как изменятся метрики качества для такого классификатора? \n"
   ]
  },
  {
   "cell_type": "code",
   "execution_count": 8,
   "metadata": {
    "colab": {},
    "colab_type": "code",
    "id": "fvX1gbyojb2Y"
   },
   "outputs": [
    {
     "name": "stdout",
     "output_type": "stream",
     "text": [
      "Доля верных предсказаний 0.871039056742815\n",
      "Точность 0.41346153846153844\n",
      "Полнота 0.6187050359712231\n",
      "F-мера 0.4956772334293948\n"
     ]
    }
   ],
   "source": [
    "THRESHOLD = 0.2\n",
    "preds = np.where(logistic.predict_proba(X_test)[:,1] > THRESHOLD, 1, 0)\n",
    "print(\"Доля верных предсказаний\",metrics.accuracy_score(y_test,preds))\n",
    "print(\"Точность\",metrics.precision_score(y_test,preds,average='binary'))\n",
    "print(\"Полнота\",metrics.recall_score(y_test,preds,average='binary'))\n",
    "print(\"F-мера\",metrics.f1_score(y_test,preds,average='binary'))\n",
    "#ваш код здесь"
   ]
  },
  {
   "cell_type": "markdown",
   "metadata": {},
   "source": [
    "Точность очевидным образом упала, потому что стали ниже требования для отнесения к положительному классу, полнота же наоборот по этой причине возросла. F-мера значительноо выросла"
   ]
  },
  {
   "cell_type": "markdown",
   "metadata": {
    "colab_type": "text",
    "id": "0Qm4FLV9jb2d"
   },
   "source": [
    "#### 3.7. Постройте логистическую регрессию, штрафующую несбалансированные классы по-разному (пропорционально доли класса). Как изменились метрики качества классификатора? "
   ]
  },
  {
   "cell_type": "code",
   "execution_count": 40,
   "metadata": {
    "colab": {},
    "colab_type": "code",
    "id": "pzFHDk2Zjb2f"
   },
   "outputs": [
    {
     "name": "stdout",
     "output_type": "stream",
     "text": [
      "Доля верных предсказаний 0.8084008843036109\n",
      "Точность 0.3149847094801223\n",
      "Полнота 0.7410071942446043\n",
      "F-мера 0.44206008583690987\n"
     ]
    },
    {
     "name": "stderr",
     "output_type": "stream",
     "text": [
      "/home/lars/anaconda3/lib/python3.7/site-packages/sklearn/linear_model/logistic.py:432: FutureWarning: Default solver will be changed to 'lbfgs' in 0.22. Specify a solver to silence this warning.\n",
      "  FutureWarning)\n"
     ]
    }
   ],
   "source": [
    "logistic = LogisticRegression(class_weight='balanced')\n",
    "\n",
    "logistic.fit(X_train, y_train)\n",
    "#logistic.score(X_test, y_test)\n",
    "\n",
    "print(\"Доля верных предсказаний\",metrics.accuracy_score(y_test,logistic.predict(X_test)))\n",
    "print(\"Точность\",metrics.precision_score(y_test,logistic.predict(X_test),average='binary'))\n",
    "print(\"Полнота\",metrics.recall_score(y_test,logistic.predict(X_test),average='binary'))\n",
    "print(\"F-мера\",metrics.f1_score(y_test,logistic.predict(X_test),average='binary'))\n",
    "#ваш код здесь"
   ]
  },
  {
   "cell_type": "markdown",
   "metadata": {},
   "source": [
    "Упали такие параметры, как доля верных предсказаний, точность и F-мера(относительно изменённого порога, но не относительно дефолтной регрессии), однако полнота заметно подросла"
   ]
  },
  {
   "cell_type": "markdown",
   "metadata": {
    "colab_type": "text",
    "id": "GscrEO20jb2p"
   },
   "source": [
    "#### 3.8. Построите логистическую регрессию с L1-регуляризацией. С помощью GridSearchCV определите наилучший гиперпараметр С. \n",
    "Воспользуйтесь StratifiedKFold для кросс-валидации, при таком разбиении сохраняется соотношение классов в обучающей и тестовой выборках. "
   ]
  },
  {
   "cell_type": "code",
   "execution_count": 45,
   "metadata": {},
   "outputs": [
    {
     "name": "stdout",
     "output_type": "stream",
     "text": [
      "Best value for C is 0.46415888336127775\n"
     ]
    }
   ],
   "source": [
    "grid={\"C\":np.logspace(-3,3,10)}\n",
    "\n",
    "kf = StratifiedKFold(n_splits=10,random_state=1648,shuffle=True)\n",
    "optimizer = GridSearchCV(LogisticRegression(solver = 'liblinear',penalty='l1'), \n",
    "                         grid, cv = kf, scoring= 'accuracy',iid=True)\n",
    "optimizer.fit(X,Y)\n",
    "\n",
    "print(\"Best value for C is\", optimizer.best_params_['C'])"
   ]
  },
  {
   "cell_type": "markdown",
   "metadata": {
    "colab_type": "text",
    "id": "MZoNQEAPjb2w"
   },
   "source": [
    "#### 3.9. Постройте зависимость средней ошибки классификатора (доля верных предсказаний) от значения параметра регуляризации. "
   ]
  },
  {
   "cell_type": "code",
   "execution_count": 46,
   "metadata": {},
   "outputs": [
    {
     "name": "stdout",
     "output_type": "stream",
     "text": [
      "Best value 0.46415888336127775 with result 0.9002433090024331\n"
     ]
    },
    {
     "data": {
      "image/png": "[encoded data removed]",
      "text/plain": [
       "<Figure size 720x720 with 1 Axes>"
      ]
     },
     "metadata": {
      "needs_background": "light"
     },
     "output_type": "display_data"
    }
   ],
   "source": [
    "fig = plt.figure(figsize=(10,10))\n",
    "ax = fig.add_subplot(2, 1, 1)\n",
    "\n",
    "ax.plot(grid['C'], optimizer.cv_results_['mean_test_score'])\n",
    "plt.xscale(\"log\")\n",
    "ax.set_xlabel(\"C\", fontsize=12)\n",
    "ax.set_ylabel(\"accuracy\", fontsize=12)\n",
    "ax.set_label(\"Dependece of accuracy on parameter C\")\n",
    "\n",
    "print(\"Best value\",grid['C'][np.argmax(optimizer.cv_results_['mean_test_score'])],\"with result\",\n",
    "      optimizer.cv_results_['mean_test_score'][np.argmax(optimizer.cv_results_['mean_test_score'])])\n"
   ]
  },
  {
   "cell_type": "code",
   "execution_count": null,
   "metadata": {},
   "outputs": [],
   "source": []
  }
 ],
 "metadata": {
  "colab": {
   "name": "Assignment03.ipynb",
   "provenance": []
  },
  "kernelspec": {
   "display_name": "Python 3",
   "language": "python",
   "name": "python3"
  },
  "language_info": {
   "codemirror_mode": {
    "name": "ipython",
    "version": 3
   },
   "file_extension": ".py",
   "mimetype": "text/x-python",
   "name": "python",
   "nbconvert_exporter": "python",
   "pygments_lexer": "ipython3",
   "version": "3.7.4"
  }
 },
 "nbformat": 4,
 "nbformat_minor": 1
}
